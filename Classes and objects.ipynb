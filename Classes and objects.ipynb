{
 "cells": [
  {
   "cell_type": "markdown",
   "id": "3058dc3d",
   "metadata": {},
   "source": [
    "## Challenge 1: Square Numbers and Return Their Sum\n",
    "### In this challenge, you need to implement a method that squares passing variables and returns their sum.\n",
    "\n",
    "- Problem statement\n",
    "> Implement a class Point that has three properties and a method. All these attributes (properties and methods) should be public. This problem can be broken down into two tasks:\n",
    "\n",
    "- Task 1\n",
    "> Implement a constructor to initialize the values of three properties: x, y, and z.\n",
    "\n",
    "- Task 2\n",
    "> Implement a method, sqSum(), in the Point class which squares x, y, and z and returns their sum.\n",
    "\n",
    ">Sample properties: 1, 3, 5\n",
    "\n",
    ">Sample method output: 35 "
   ]
  },
  {
   "cell_type": "code",
   "execution_count": 1,
   "id": "bc5cc819",
   "metadata": {},
   "outputs": [
    {
     "name": "stdout",
     "output_type": "stream",
     "text": [
      "35\n"
     ]
    }
   ],
   "source": [
    "class Point:\n",
    "    def __init__(self,x,y,z): #varibles assigning\n",
    "        self.x = x\n",
    "        self.y = y\n",
    "        self.z = z\n",
    "    \n",
    "    def square_value(val): #square the values\n",
    "        return val ** 2\n",
    "    \n",
    "    def sqSum(self): \n",
    "        return Point.square_value(self.x)+Point.square_value(self.y)+Point.square_value(self.z)\n",
    "\n",
    "obj = Point(1,3,5)\n",
    "print(obj.sqSum())"
   ]
  },
  {
   "attachments": {
    "image-4.png": {
     "image/png": "[encoded data removed]"
    }
   },
   "cell_type": "markdown",
   "id": "8035e52c",
   "metadata": {},
   "source": [
    "## Challenge 2: Calculate the Student's Performance\n",
    "\n",
    "### In this exercise, you have to calculate a student's total marks using the concept of Classes.\n",
    "\n",
    "- Problem statement\n",
    "> Implement a class - Student - that has four properties and two methods. All these attributes (properties and methods) should be public. This problem can be broken down into three tasks.\n",
    "\n",
    "- Task 1\n",
    "> Implement a constructor to initialize the values of four properties: name, phy, chem, and bio.\n",
    "\n",
    "- Task 2\n",
    "> Implement a method – totalObtained – in the Student class that calculates total marks of a student.\n",
    "\n",
    "> Sample properties\n",
    "- name = Tejashri \u000b",
    "phy = 80 \u000b",
    "chem = 90 \u000b",
    "bio  = 40\n",
    "- Sample method output: obj1.Total()=210!\n",
    "\n",
    "- Task 3\n",
    "> Using the totalObtained method, implement another method, percentage, in the Student class that calculates the percentage of students marks. Assume that the total marks of each subject are 100. The combined marks of three subjects are 300.\n",
    "The formula for calculating the percentage is given below.\n",
    "![image-4.png](attachment:image-4.png)\n",
    "\n",
    "- Percentage = ( Marks Obtained * 100 ) / Total Marks\n",
    "- Percentage = ( Marks Obtained  /  Total Marks ) * 100\n",
    "- Sample input: phy  = 80\u000b",
    "chem = 90 \u000b",
    "bio  = 40\u000b",
    "\n",
    "- Sample output: 70"
   ]
  },
  {
   "cell_type": "code",
   "execution_count": 2,
   "id": "fb2b01b5",
   "metadata": {},
   "outputs": [
    {
     "name": "stdout",
     "output_type": "stream",
     "text": [
      "Total is:  210\n",
      "Percentage is:  70.0\n"
     ]
    }
   ],
   "source": [
    "class Student:\n",
    "    def __init__(self,name,phy,chm,bio):\n",
    "        self.name = name\n",
    "        self.phy = phy\n",
    "        self.chm = chm\n",
    "        self.bio = bio\n",
    "        \n",
    "    def Total(self):\n",
    "        return self.phy+self.chm+self.bio\n",
    "    \n",
    "    def percentage(self):\n",
    "        return (Student.Total(self) / 300) * 100\n",
    "    \n",
    "std = Student(\"Tejashri\",80,90,40)\n",
    "\n",
    "print(\"Total is: \",std.Total())\n",
    "print(\"Percentage is: \",std.percentage())"
   ]
  },
  {
   "attachments": {},
   "cell_type": "markdown",
   "id": "35ed3acf",
   "metadata": {},
   "source": [
    "## Challenge 3: Implement a Calculator Class\n",
    "### In this exercise, you have to implement a calculator that can perform addition, subtraction, multiplication, \tand division.\n",
    "- Problem statement\n",
    "> Write a Python class called Calculator by completing the tasks below:\n",
    "- Task 1\n",
    "> Initializer\n",
    "-Implement an initializer to initialize the values of num1 and num2.\n",
    "- Properties: num1, num2\n",
    "\n",
    "- Task 2\n",
    "> Methods\n",
    "add() is a method that returns the sum of num1 and num2.\n",
    "subtract() is a method that returns the subtraction of num1 from num2.\n",
    "multiply() is a method that returns the product of num1 and num2.\n",
    "divide() is a method that returns the division of num2 by num1.\n",
    "\n",
    "- Input: Pass numbers (integers or floats) in the initializer.\n",
    "- Output: addition, subtraction, division, and multiplication\n",
    "\n",
    "> Sample input: obj = Calculator(10, 94);\u000b",
    "obj.add()\u000b",
    "obj.subtract()\u000b",
    "obj.multiply()\u000b",
    "obj.divide()\u000b",
    "\n",
    "\n",
    "> Sample output: 104, 84, 940, 9.4 "
   ]
  },
  {
   "cell_type": "code",
   "execution_count": 3,
   "id": "48030bf1",
   "metadata": {},
   "outputs": [
    {
     "name": "stdout",
     "output_type": "stream",
     "text": [
      "104\n",
      "84\n",
      "940\n",
      "9.4\n"
     ]
    }
   ],
   "source": [
    "class Calculator:\n",
    "    def __init__(self,num1,num2):\n",
    "        self.num1 = num1\n",
    "        self.num2 = num2\n",
    "        \n",
    "    def add(self):\n",
    "        return self.num1+self.num2\n",
    "    \n",
    "    def subtract(self):\n",
    "        return self.num1-self.num2\n",
    "    \n",
    "    def multiply(self):\n",
    "        return self.num1*self.num2\n",
    "    \n",
    "    def divide(self):\n",
    "        return self.num1/self.num2\n",
    "    \n",
    "cal = Calculator(94,10)\n",
    "print(cal.add())\n",
    "print(cal.subtract())\n",
    "print(cal.multiply())\n",
    "print(cal.divide())"
   ]
  }
 ],
 "metadata": {
  "kernelspec": {
   "display_name": "Python 3 (ipykernel)",
   "language": "python",
   "name": "python3"
  },
  "language_info": {
   "codemirror_mode": {
    "name": "ipython",
    "version": 3
   },
   "file_extension": ".py",
   "mimetype": "text/x-python",
   "name": "python",
   "nbconvert_exporter": "python",
   "pygments_lexer": "ipython3",
   "version": "3.10.1"
  }
 },
 "nbformat": 4,
 "nbformat_minor": 5
}
